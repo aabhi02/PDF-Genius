{
 "cells": [
  {
   "cell_type": "code",
   "execution_count": 1,
   "metadata": {},
   "outputs": [],
   "source": [
    "from langchain.document_loaders import UnstructuredPDFLoader\n",
    "from langchain.text_splitter import RecursiveCharacterTextSplitter"
   ]
  },
  {
   "cell_type": "code",
   "execution_count": 2,
   "metadata": {},
   "outputs": [],
   "source": [
    "loader = UnstructuredPDFLoader(\"./pdf.pdf\")"
   ]
  },
  {
   "cell_type": "code",
   "execution_count": 3,
   "metadata": {},
   "outputs": [
    {
     "name": "stderr",
     "output_type": "stream",
     "text": [
      "/home/jayanth/.local/lib/python3.10/site-packages/tqdm/auto.py:21: TqdmWarning: IProgress not found. Please update jupyter and ipywidgets. See https://ipywidgets.readthedocs.io/en/stable/user_install.html\n",
      "  from .autonotebook import tqdm as notebook_tqdm\n"
     ]
    }
   ],
   "source": [
    "data = loader.load()"
   ]
  },
  {
   "cell_type": "code",
   "execution_count": 5,
   "metadata": {},
   "outputs": [],
   "source": [
    "textSplitter = RecursiveCharacterTextSplitter(chunk_size=1000, chunk_overlap=0)\n",
    "texts = textSplitter.split_documents(data)"
   ]
  },
  {
   "cell_type": "code",
   "execution_count": 6,
   "metadata": {},
   "outputs": [
    {
     "name": "stdout",
     "output_type": "stream",
     "text": [
      "2\n"
     ]
    }
   ],
   "source": [
    "print(len(texts))"
   ]
  },
  {
   "cell_type": "code",
   "execution_count": 7,
   "metadata": {},
   "outputs": [
    {
     "name": "stdout",
     "output_type": "stream",
     "text": [
      "CORRECTED PAYER’S name, street address, city or town, state or province, country, ZIP or foreign postal code, and telephone no.\n",
      "\n",
      "9191\n",
      "\n",
      "VOID\n",
      "\n",
      "1a Total ordinary dividends\n",
      "\n",
      "OMB No. 1545-0110\n",
      "\n",
      "MORGAN STANLEY 1585 BROADWAY NEW YORK NY 10036 1-800-622-2393\n",
      "\n",
      "PAYER’S TIN\n",
      "\n",
      "RECIPIENT’S TIN\n",
      "\n",
      "36-3145972\n",
      "\n",
      "RECIPIENT’S name\n",
      "\n",
      "ANN C PORCARO TOD\n",
      "\n",
      "Street address (including apt. no.)\n",
      "\n",
      "LINDA A COSTAGLIOLA 55 JAMES RD\n",
      "\n",
      "City or town, state or province, country, and ZIP or foreign postal code\n",
      "\n",
      "MONROE NY 10950-4315\n",
      "\n",
      "11 FATCA filing requirement\n",
      "\n",
      "$ 1b Qualified dividends\n",
      "\n",
      "$ 2a Total capital gain distr. $ 2c Section 1202 gain $ 2e Section 897 ordinary dividends $ 3 Nondividend distributions $ 5 Section 199A dividends $. 0.00 7 Foreign tax paid\n",
      "\n",
      "$ 0.00 9 Cash liquidation distributions $ 0.00 12 Exempt-interest dividends\n",
      "\n",
      "Form 1099-DIV\n",
      "\n",
      "(Rev. January 2022)\n",
      "\n",
      "Dividends and Distributions\n",
      "\n",
      "For calendar year\n",
      "\n",
      "20\n"
     ]
    }
   ],
   "source": [
    "print(texts[0].page_content)"
   ]
  },
  {
   "cell_type": "code",
   "execution_count": 8,
   "metadata": {},
   "outputs": [],
   "source": [
    "from langchain.vectorstores import Pinecone\n",
    "from langchain.embeddings import GooglePalmEmbeddings"
   ]
  },
  {
   "cell_type": "code",
   "execution_count": 9,
   "metadata": {},
   "outputs": [],
   "source": [
    "from pinecone import Pinecone\n",
    "pc = Pinecone(api_key=\"your-pinecone-api-key-here\")\n",
    "index = pc.Index(host='host-url-here')"
   ]
  },
  {
   "cell_type": "code",
   "execution_count": 10,
   "metadata": {},
   "outputs": [],
   "source": [
    "embed = GooglePalmEmbeddings(google_api_key=\"your-google-api-key-here\")"
   ]
  },
  {
   "cell_type": "code",
   "execution_count": 11,
   "metadata": {},
   "outputs": [],
   "source": [
    "from langchain.vectorstores import Pinecone"
   ]
  },
  {
   "cell_type": "code",
   "execution_count": 12,
   "metadata": {},
   "outputs": [],
   "source": [
    "import os\n",
    "os.environ['PINECONE_API_KEY'] = \"your-pinecone-api-key-here\""
   ]
  },
  {
   "cell_type": "code",
   "execution_count": 13,
   "metadata": {},
   "outputs": [],
   "source": [
    "docsearch = Pinecone.from_texts([t.page_content for t in texts], embed, index_name=\"langchain2\")"
   ]
  },
  {
   "cell_type": "code",
   "execution_count": 14,
   "metadata": {},
   "outputs": [],
   "source": [
    "qr = \"What is the client's name?\"\n",
    "docs = docsearch.similarity_search(query=qr)"
   ]
  },
  {
   "cell_type": "code",
   "execution_count": 15,
   "metadata": {},
   "outputs": [
    {
     "name": "stdout",
     "output_type": "stream",
     "text": [
      "2\n"
     ]
    }
   ],
   "source": [
    "print(len(docs))"
   ]
  },
  {
   "cell_type": "code",
   "execution_count": 16,
   "metadata": {},
   "outputs": [
    {
     "data": {
      "text/plain": [
       "[Document(page_content='CORRECTED PAYER’S name, street address, city or town, state or province, country, ZIP or foreign postal code, and telephone no.\\n\\n9191\\n\\nVOID\\n\\n1a Total ordinary dividends\\n\\nOMB No. 1545-0110\\n\\nMORGAN STANLEY 1585 BROADWAY NEW YORK NY 10036 1-800-622-2393\\n\\nPAYER’S TIN\\n\\nRECIPIENT’S TIN\\n\\n36-3145972\\n\\nRECIPIENT’S name\\n\\nANN C PORCARO TOD\\n\\nStreet address (including apt. no.)\\n\\nLINDA A COSTAGLIOLA 55 JAMES RD\\n\\nCity or town, state or province, country, and ZIP or foreign postal code\\n\\nMONROE NY 10950-4315\\n\\n11 FATCA filing requirement\\n\\n$ 1b Qualified dividends\\n\\n$ 2a Total capital gain distr. $ 2c Section 1202 gain $ 2e Section 897 ordinary dividends $ 3 Nondividend distributions $ 5 Section 199A dividends $. 0.00 7 Foreign tax paid\\n\\n$ 0.00 9 Cash liquidation distributions $ 0.00 12 Exempt-interest dividends\\n\\nForm 1099-DIV\\n\\n(Rev. January 2022)\\n\\nDividends and Distributions\\n\\nFor calendar year\\n\\n20'),\n",
       " Document(page_content='2b Unrecap. Sec. 1250 gain $ 2d Collectibles (28%) gain $ 2f Section 897 capital gain $ 4 Federal income tax withheld $ 6 Investment expenses $ 8 Foreign country or U.S. possession\\n\\n10 Noncash liquidation distributions $ 13 Specified private activity bond interest dividends\\n\\nCopy A For\\n\\nInternal Revenue Service Center\\n\\nFile with Form 1096.\\n\\nFor Privacy Act and Paperwork Reduction Act Notice, see the current General Instructions for Certain Information Returns.\\n\\nAccount number (see instructions)\\n\\n2nd TIN not.\\n\\n$ 14 State 15 State identification no.\\n\\n$\\n\\n16 State tax withheld\\n\\n$ $\\n\\nForm 1099-DIV (Rev. 1-2022) Do Not Cut or Separate Forms on This Page — Do Not Cut or Separate Forms on This Page\\n\\nCat. No. 14415N\\n\\nwww.irs.gov/Form1099DIV\\n\\nDepartment of the Treasury - Internal Revenue Service')]"
      ]
     },
     "execution_count": 16,
     "metadata": {},
     "output_type": "execute_result"
    }
   ],
   "source": [
    "docs"
   ]
  },
  {
   "cell_type": "code",
   "execution_count": 18,
   "metadata": {},
   "outputs": [],
   "source": [
    "from langchain.llms.google_palm import GooglePalm\n",
    "from langchain.chains.question_answering import load_qa_chain\n",
    "\n",
    "llm = GooglePalm(google_api_key=\"your-google-api-key-here\", temperature=0)\n",
    "chain = load_qa_chain(llm, chain_type='stuff')"
   ]
  },
  {
   "cell_type": "code",
   "execution_count": 21,
   "metadata": {},
   "outputs": [
    {
     "data": {
      "text/plain": [
       "'MORGAN STANLEY'"
      ]
     },
     "execution_count": 21,
     "metadata": {},
     "output_type": "execute_result"
    }
   ],
   "source": [
    "qr = \"What is the payer's name in the document 9191?\"\n",
    "docs = docsearch.similarity_search(query=qr)\n",
    "chain.invoke({\"input_documents\":docs, \"question\":qr})['output_text']"
   ]
  },
  {
   "cell_type": "code",
   "execution_count": 22,
   "metadata": {},
   "outputs": [
    {
     "data": {
      "text/plain": [
       "\"The recipient's name on this document is ANN C PORCARO TOD.\""
      ]
     },
     "execution_count": 22,
     "metadata": {},
     "output_type": "execute_result"
    }
   ],
   "source": [
    "qr = \"What is the recipient's name in the document 9191?\"\n",
    "docs = docsearch.similarity_search(query=qr)\n",
    "chain.run(input_documents=docs, question=qr)"
   ]
  },
  {
   "cell_type": "code",
   "execution_count": 22,
   "metadata": {},
   "outputs": [
    {
     "data": {
      "text/plain": [
       "\"The recipient's address is 55 JAMES RD\\n\\nLINDA A COSTAGLIOLA\\n\\nMONROE NY 10950-4315\""
      ]
     },
     "execution_count": 22,
     "metadata": {},
     "output_type": "execute_result"
    }
   ],
   "source": [
    "qr = \"What is the recipient's address including apt. no.?\"\n",
    "docs = docsearch.similarity_search(query=qr)\n",
    "chain.run(input_documents=docs, question=qr)"
   ]
  },
  {
   "cell_type": "code",
   "execution_count": 23,
   "metadata": {},
   "outputs": [
    {
     "data": {
      "text/plain": [
       "\"The recipient's street address is 55 JAMES RD\\n\\nLINDA A COSTAGLIOLA\""
      ]
     },
     "execution_count": 23,
     "metadata": {},
     "output_type": "execute_result"
    }
   ],
   "source": [
    "qr = \"What is the recipient's street address including apt. no.?\"\n",
    "docs = docsearch.similarity_search(query=qr)\n",
    "chain.run(input_documents=docs, question=qr)"
   ]
  },
  {
   "cell_type": "code",
   "execution_count": 24,
   "metadata": {},
   "outputs": [
    {
     "data": {
      "text/plain": [
       "\"The recipient's address is 55 JAMES RD\\n\\nMONROE NY 10950-4315.\""
      ]
     },
     "execution_count": 24,
     "metadata": {},
     "output_type": "execute_result"
    }
   ],
   "source": [
    "qr = \"What is the recipient's street address?\"\n",
    "docs = docsearch.similarity_search(query=qr)\n",
    "chain.run(input_documents=docs, question=qr)"
   ]
  },
  {
   "cell_type": "code",
   "execution_count": 25,
   "metadata": {},
   "outputs": [
    {
     "data": {
      "text/plain": [
       "'The foreign tax amount is 0.00.'"
      ]
     },
     "execution_count": 25,
     "metadata": {},
     "output_type": "execute_result"
    }
   ],
   "source": [
    "qr = \"What is the foreign tax amount in $?\"\n",
    "docs = docsearch.similarity_search(query=qr)\n",
    "chain.run(input_documents=docs, question=qr)"
   ]
  },
  {
   "cell_type": "code",
   "execution_count": 26,
   "metadata": {},
   "outputs": [
    {
     "data": {
      "text/plain": [
       "'The form number is 1099-DIV.'"
      ]
     },
     "execution_count": 26,
     "metadata": {},
     "output_type": "execute_result"
    }
   ],
   "source": [
    "qr = \"What is the form number of the document?\"\n",
    "docs = docsearch.similarity_search(query=qr)\n",
    "chain.run(input_documents=docs, question=qr)"
   ]
  },
  {
   "cell_type": "code",
   "execution_count": 27,
   "metadata": {},
   "outputs": [
    {
     "data": {
      "text/plain": [
       "'The document is a 1099-DIV.'"
      ]
     },
     "execution_count": 27,
     "metadata": {},
     "output_type": "execute_result"
    }
   ],
   "source": [
    "qr = \"What is the document name?\"\n",
    "docs = docsearch.similarity_search(query=qr)\n",
    "chain.run(input_documents=docs, question=qr)"
   ]
  },
  {
   "cell_type": "code",
   "execution_count": 28,
   "metadata": {},
   "outputs": [
    {
     "data": {
      "text/plain": [
       "'Form 1096'"
      ]
     },
     "execution_count": 28,
     "metadata": {},
     "output_type": "execute_result"
    }
   ],
   "source": [
    "qr = \"What is the name of the other document which should be filed with this document?\"\n",
    "docs = docsearch.similarity_search(query=qr)\n",
    "chain.run(input_documents=docs, question=qr)"
   ]
  },
  {
   "cell_type": "code",
   "execution_count": null,
   "metadata": {},
   "outputs": [
    {
     "data": {
      "text/plain": [
       "'Chapman, Kim and Green'"
      ]
     },
     "execution_count": 92,
     "metadata": {},
     "output_type": "execute_result"
    }
   ],
   "source": [
    "qr = \"What is the name of he seller?\"\n",
    "docs = docsearch.similarity_search(query=qr)\n",
    "chain.run(input_documents=docs, question=qr)"
   ]
  },
  {
   "cell_type": "code",
   "execution_count": null,
   "metadata": {},
   "outputs": [
    {
     "data": {
      "text/plain": [
       "'64731 James Branch Smithmouth, NC 26872'"
      ]
     },
     "execution_count": 93,
     "metadata": {},
     "output_type": "execute_result"
    }
   ],
   "source": [
    "chain.run(input_documents=docs, question=\"what is the address of the seller?\")"
   ]
  },
  {
   "cell_type": "code",
   "execution_count": null,
   "metadata": {},
   "outputs": [
    {
     "data": {
      "text/plain": [
       "'The invoice number is 61356291.'"
      ]
     },
     "execution_count": 94,
     "metadata": {},
     "output_type": "execute_result"
    }
   ],
   "source": [
    "chain.run(input_documents=docs, question=\"what is the invoice number?\")"
   ]
  },
  {
   "cell_type": "code",
   "execution_count": null,
   "metadata": {},
   "outputs": [
    {
     "data": {
      "text/plain": [
       "'09/06/2012'"
      ]
     },
     "execution_count": 95,
     "metadata": {},
     "output_type": "execute_result"
    }
   ],
   "source": [
    "chain.run(input_documents=docs, question=\"when was the invoice generated?\")"
   ]
  },
  {
   "cell_type": "code",
   "execution_count": null,
   "metadata": {},
   "outputs": [
    {
     "data": {
      "text/plain": [
       "'The address of the client is 2280 Angela Plain Hortonshire, MS 93248.'"
      ]
     },
     "execution_count": 96,
     "metadata": {},
     "output_type": "execute_result"
    }
   ],
   "source": [
    "chain.run(input_documents=docs, question=\"what is the address of the client?\")"
   ]
  },
  {
   "cell_type": "code",
   "execution_count": null,
   "metadata": {},
   "outputs": [
    {
     "data": {
      "text/plain": [
       "'4'"
      ]
     },
     "execution_count": 97,
     "metadata": {},
     "output_type": "execute_result"
    }
   ],
   "source": [
    "chain.run(input_documents=docs, question=\"how many items are there in the invoice?\")"
   ]
  },
  {
   "cell_type": "code",
   "execution_count": null,
   "metadata": {},
   "outputs": [
    {
     "data": {
      "text/plain": [
       "'The total cost of this invoice is 212,09.'"
      ]
     },
     "execution_count": 98,
     "metadata": {},
     "output_type": "execute_result"
    }
   ],
   "source": [
    "chain.run(input_documents=docs, question=\"what is the summary of the invoice?\")"
   ]
  },
  {
   "cell_type": "code",
   "execution_count": null,
   "metadata": {},
   "outputs": [
    {
     "data": {
      "text/plain": [
       "'10%'"
      ]
     },
     "execution_count": 99,
     "metadata": {},
     "output_type": "execute_result"
    }
   ],
   "source": [
    "chain.run(input_documents=docs, question=\"what is the total VAT in %?\")"
   ]
  },
  {
   "cell_type": "code",
   "execution_count": null,
   "metadata": {},
   "outputs": [
    {
     "data": {
      "text/plain": [
       "'The total VAT is 19,28.'"
      ]
     },
     "execution_count": 100,
     "metadata": {},
     "output_type": "execute_result"
    }
   ],
   "source": [
    "chain.run(input_documents=docs, question=\"what is the total VAT in $?\")"
   ]
  },
  {
   "cell_type": "code",
   "execution_count": null,
   "metadata": {},
   "outputs": [
    {
     "data": {
      "text/plain": [
       "'5'"
      ]
     },
     "execution_count": 101,
     "metadata": {},
     "output_type": "execute_result"
    }
   ],
   "source": [
    "chain.run(input_documents=docs, question=\"what is the quantity of the item Wine Glasses Goblets Pair Clear Glass purchased?\")"
   ]
  },
  {
   "cell_type": "code",
   "execution_count": null,
   "metadata": {},
   "outputs": [
    {
     "data": {
      "text/plain": [
       "'The first question you asked is: What is the invoice number?'"
      ]
     },
     "execution_count": 102,
     "metadata": {},
     "output_type": "execute_result"
    }
   ],
   "source": [
    "chain.run(input_documents=docs, question=\"what is the first question i asked?\")"
   ]
  }
 ],
 "metadata": {
  "kernelspec": {
   "display_name": "Python 3",
   "language": "python",
   "name": "python3"
  },
  "language_info": {
   "codemirror_mode": {
    "name": "ipython",
    "version": 3
   },
   "file_extension": ".py",
   "mimetype": "text/x-python",
   "name": "python",
   "nbconvert_exporter": "python",
   "pygments_lexer": "ipython3",
   "version": "3.10.12"
  }
 },
 "nbformat": 4,
 "nbformat_minor": 2
}
